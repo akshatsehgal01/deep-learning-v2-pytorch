{
 "cells": [
  {
   "cell_type": "markdown",
   "metadata": {},
   "source": [
    "# Neural networks with PyTorch\n",
    "\n",
    "Deep learning networks tend to be massive with dozens or hundreds of layers, that's where the term \"deep\" comes from. You can build one of these deep networks using only weight matrices as we did in the previous notebook, but in general it's very cumbersome and difficult to implement. PyTorch has a nice module `nn` that provides a nice way to efficiently build large neural networks."
   ]
  },
  {
   "cell_type": "code",
   "execution_count": 1,
   "metadata": {},
   "outputs": [],
   "source": [
    "# Import necessary packages\n",
    "\n",
    "%matplotlib inline\n",
    "%config InlineBackend.figure_format = 'retina'\n",
    "\n",
    "import numpy as np\n",
    "import torch\n",
    "\n",
    "import helper\n",
    "\n",
    "import matplotlib.pyplot as plt"
   ]
  },
  {
   "cell_type": "markdown",
   "metadata": {},
   "source": [
    "\n",
    "Now we're going to build a larger network that can solve a (formerly) difficult problem, identifying text in an image. Here we'll use the MNIST dataset which consists of greyscale handwritten digits. Each image is 28x28 pixels, you can see a sample below\n",
    "\n",
    "<img src='assets/mnist.png'>\n",
    "\n",
    "Our goal is to build a neural network that can take one of these images and predict the digit in the image.\n",
    "\n",
    "First up, we need to get our dataset. This is provided through the `torchvision` package. The code below will download the MNIST dataset, then create training and test datasets for us. Don't worry too much about the details here, you'll learn more about this later."
   ]
  },
  {
   "cell_type": "code",
   "execution_count": 2,
   "metadata": {},
   "outputs": [
    {
     "name": "stdout",
     "output_type": "stream",
     "text": [
      "Downloading http://yann.lecun.com/exdb/mnist/train-images-idx3-ubyte.gz to /home/akshat/.pytorch/MNIST_data/MNIST/raw/train-images-idx3-ubyte.gz\n"
     ]
    },
    {
     "name": "stderr",
     "output_type": "stream",
     "text": [
      "100.1%"
     ]
    },
    {
     "name": "stdout",
     "output_type": "stream",
     "text": [
      "Extracting /home/akshat/.pytorch/MNIST_data/MNIST/raw/train-images-idx3-ubyte.gz to /home/akshat/.pytorch/MNIST_data/MNIST/raw\n",
      "Downloading http://yann.lecun.com/exdb/mnist/train-labels-idx1-ubyte.gz to /home/akshat/.pytorch/MNIST_data/MNIST/raw/train-labels-idx1-ubyte.gz\n"
     ]
    },
    {
     "name": "stderr",
     "output_type": "stream",
     "text": [
      "113.5%"
     ]
    },
    {
     "name": "stdout",
     "output_type": "stream",
     "text": [
      "Extracting /home/akshat/.pytorch/MNIST_data/MNIST/raw/train-labels-idx1-ubyte.gz to /home/akshat/.pytorch/MNIST_data/MNIST/raw\n",
      "Downloading http://yann.lecun.com/exdb/mnist/t10k-images-idx3-ubyte.gz to /home/akshat/.pytorch/MNIST_data/MNIST/raw/t10k-images-idx3-ubyte.gz\n"
     ]
    },
    {
     "name": "stderr",
     "output_type": "stream",
     "text": [
      "100.4%"
     ]
    },
    {
     "name": "stdout",
     "output_type": "stream",
     "text": [
      "Extracting /home/akshat/.pytorch/MNIST_data/MNIST/raw/t10k-images-idx3-ubyte.gz to /home/akshat/.pytorch/MNIST_data/MNIST/raw\n",
      "Downloading http://yann.lecun.com/exdb/mnist/t10k-labels-idx1-ubyte.gz to /home/akshat/.pytorch/MNIST_data/MNIST/raw/t10k-labels-idx1-ubyte.gz\n"
     ]
    },
    {
     "name": "stderr",
     "output_type": "stream",
     "text": [
      "180.4%/home/akshat/anaconda3/envs/deep--learning/lib/python3.8/site-packages/torchvision/datasets/mnist.py:480: UserWarning: The given NumPy array is not writeable, and PyTorch does not support non-writeable tensors. This means you can write to the underlying (supposedly non-writeable) NumPy array using the tensor. You may want to copy the array to protect its data or make it writeable before converting it to a tensor. This type of warning will be suppressed for the rest of this program. (Triggered internally at  /opt/conda/conda-bld/pytorch_1607370124688/work/torch/csrc/utils/tensor_numpy.cpp:141.)\n",
      "  return torch.from_numpy(parsed.astype(m[2], copy=False)).view(*s)\n"
     ]
    },
    {
     "name": "stdout",
     "output_type": "stream",
     "text": [
      "Extracting /home/akshat/.pytorch/MNIST_data/MNIST/raw/t10k-labels-idx1-ubyte.gz to /home/akshat/.pytorch/MNIST_data/MNIST/raw\n",
      "Processing...\n",
      "Done!\n"
     ]
    }
   ],
   "source": [
    "### Run this cell\n",
    "\n",
    "from torchvision import datasets, transforms\n",
    "\n",
    "# Define a transform to normalize the data\n",
    "transform = transforms.Compose([transforms.ToTensor(),\n",
    "                              transforms.Normalize((0.5,), (0.5,)),\n",
    "                              ])\n",
    "\n",
    "# Download and load the training data\n",
    "trainset = datasets.MNIST('~/.pytorch/MNIST_data/', download=True, train=True, transform=transform)\n",
    "trainloader = torch.utils.data.DataLoader(trainset, batch_size=64, shuffle=True)"
   ]
  },
  {
   "cell_type": "markdown",
   "metadata": {},
   "source": [
    "We have the training data loaded into `trainloader` and we make that an iterator with `iter(trainloader)`. Later, we'll use this to loop through the dataset for training, like\n",
    "\n",
    "```python\n",
    "for image, label in trainloader:\n",
    "    ## do things with images and labels\n",
    "```\n",
    "\n",
    "You'll notice I created the `trainloader` with a batch size of 64, and `shuffle=True`. The batch size is the number of images we get in one iteration from the data loader and pass through our network, often called a *batch*. And `shuffle=True` tells it to shuffle the dataset every time we start going through the data loader again. But here I'm just grabbing the first batch so we can check out the data. We can see below that `images` is just a tensor with size `(64, 1, 28, 28)`. So, 64 images per batch, 1 color channel, and 28x28 images."
   ]
  },
  {
   "cell_type": "code",
   "execution_count": 3,
   "metadata": {},
   "outputs": [
    {
     "name": "stdout",
     "output_type": "stream",
     "text": [
      "<class 'torch.Tensor'>\n",
      "torch.Size([64, 1, 28, 28])\n",
      "torch.Size([64])\n"
     ]
    }
   ],
   "source": [
    "dataiter = iter(trainloader)\n",
    "images, labels = dataiter.next()\n",
    "print(type(images))\n",
    "print(images.shape)\n",
    "print(labels.shape)"
   ]
  },
  {
   "cell_type": "markdown",
   "metadata": {},
   "source": [
    "This is what one of the images looks like. "
   ]
  },
  {
   "cell_type": "code",
   "execution_count": 4,
   "metadata": {},
   "outputs": [
    {
     "data": {
      "image/png": "[encoded data removed]",
      "text/plain": [
       "<Figure size 432x288 with 1 Axes>"
      ]
     },
     "metadata": {
      "image/png": {
       "height": 248,
       "width": 251
      },
      "needs_background": "light"
     },
     "output_type": "display_data"
    }
   ],
   "source": [
    "plt.imshow(images[1].numpy().squeeze(), cmap='Greys_r');"
   ]
  },
  {
   "cell_type": "markdown",
   "metadata": {},
   "source": [
    "First, let's try to build a simple network for this dataset using weight matrices and matrix multiplications. Then, we'll see how to do it using PyTorch's `nn` module which provides a much more convenient and powerful method for defining network architectures.\n",
    "\n",
    "The networks you've seen so far are called *fully-connected* or *dense* networks. Each unit in one layer is connected to each unit in the next layer. In fully-connected networks, the input to each layer must be a one-dimensional vector (which can be stacked into a 2D tensor as a batch of multiple examples). However, our images are 28x28 2D tensors, so we need to convert them into 1D vectors. Thinking about sizes, we need to convert the batch of images with shape `(64, 1, 28, 28)` to a have a shape of `(64, 784)`, 784 is 28 times 28. This is typically called *flattening*, we flattened the 2D images into 1D vectors.\n",
    "\n",
    "Previously you built a network with one output unit. Here we need 10 output units, one for each digit. We want our network to predict the digit shown in an image, so what we'll do is calculate probabilities that the image is of any one digit or class. This ends up being a discrete probability distribution over the classes (digits) that tells us the most likely class for the image. That means we need 10 output units for the 10 classes (digits). We'll see how to convert the network output into a probability distribution next.\n",
    "\n",
    "> **Exercise:** Flatten the batch of images `images`. Then build a multi-layer network with 784 input units, 256 hidden units, and 10 output units using random tensors for the weights and biases. For now, use a sigmoid activation for the hidden layer. Leave the output layer without an activation, we'll add one that gives us a probability distribution next."
   ]
  },
  {
   "cell_type": "code",
   "execution_count": 46,
   "metadata": {},
   "outputs": [
    {
     "name": "stdout",
     "output_type": "stream",
     "text": [
      "torch.Size([64, 10])\n",
      "tensor([[  6.4456, -11.7629,  -2.9225,   1.9073,  20.9492,  18.7716,   1.5350,\n",
      "          -0.6058,   0.6004,   5.3728],\n",
      "        [ -1.6251, -11.3795, -14.6411,   3.3102,  14.7158,  16.1555,   2.8863,\n",
      "         -20.0295,  -4.9467,   8.7407],\n",
      "        [  1.7505, -17.0993, -22.0776,   6.0391,  11.7324,  22.9905,  12.2754,\n",
      "         -15.3560,  -5.1488,   7.5758],\n",
      "        [ -4.9246, -16.6410,  -4.5523,  -1.0721,  12.5675,  27.5768,   3.6728,\n",
      "         -10.3258,  -3.0006,   0.3675],\n",
      "        [ -7.7711,  -2.6327, -11.1878,   3.2699,  14.7513,  26.7538,   3.3833,\n",
      "         -13.6618,  -4.8817,  -3.9463],\n",
      "        [-11.3865, -10.2041,   0.7350,  -4.8645,  14.8145,  14.8616,   8.0270,\n",
      "          -6.8162, -11.2974,  13.6796],\n",
      "        [  9.6290, -15.6600, -21.7060,  -2.6839,   8.9883,  26.7527,   7.9002,\n",
      "          -7.6124,  -6.0139,   6.8985],\n",
      "        [ -5.3896,  -6.8562, -16.9772,   9.3776,  18.6320,  29.7838,   1.5920,\n",
      "         -12.8441, -10.0267,   6.4663],\n",
      "        [  1.2012,  -9.0493, -13.1337,  -0.7748,  12.4635,  13.9878,   7.0393,\n",
      "          -8.1769,  -4.6998,  18.4213],\n",
      "        [ -1.2791, -13.5131, -19.9818,  -0.3953,  11.8312,  22.7594,   3.5044,\n",
      "          -9.5836,  -5.8745,  12.1264],\n",
      "        [ -7.7025, -21.6625, -12.6402,   0.6103,  20.2365,  18.1194,   5.2213,\n",
      "         -12.3645,  -5.4032,  15.7021],\n",
      "        [ -2.2865, -20.1571, -14.6529,   0.2391,  17.9168,  22.8463,  10.8393,\n",
      "          -5.0070,  -6.2863,  16.7428],\n",
      "        [ -0.5939, -19.9575, -13.7739,  -5.9341,  16.5253,  20.9890,  13.4083,\n",
      "         -15.2633,  -4.8591,  12.4164],\n",
      "        [ -2.8687, -13.4943, -10.1690,  -0.5362,  10.2020,  19.0707,   3.7114,\n",
      "          -4.6904,  -2.5361,   3.6562],\n",
      "        [ -2.8416, -10.5582, -12.1667,   0.4414,   0.5578,  23.6615,  -2.1869,\n",
      "         -11.6149,  -9.8401,   6.4488],\n",
      "        [ -4.3528, -11.1634, -18.9521,  -2.7836,  10.6646,  27.7329,   8.3714,\n",
      "          -9.7123,  -5.7436,  19.9227],\n",
      "        [ -3.0995, -13.9824,  -9.0320,   4.2165,  11.7680,  28.8508,   5.4108,\n",
      "          -4.3216, -14.7721,   1.8600],\n",
      "        [ -5.4689,  -7.9582, -14.0176,   1.0249,  16.3640,  23.0846,  -3.0412,\n",
      "          -6.5059, -12.0839,   5.7017],\n",
      "        [ -0.8849, -16.5620, -18.1278,   2.7475,  16.6670,  23.8523,  14.5950,\n",
      "         -14.8419, -10.7331,   9.8374],\n",
      "        [  2.9311, -13.4356, -14.0228,  -1.8853,   6.6131,  31.6210,   4.2769,\n",
      "         -10.0501,  -5.1765,   3.5615],\n",
      "        [ -4.3940, -14.5957, -10.2880,   0.5141,  11.2275,  18.6002,   4.7530,\n",
      "          -6.0337, -14.3389,  12.6937],\n",
      "        [  7.0418,  -4.7731, -14.9206,   0.6616,   8.4735,  22.2039,   3.3747,\n",
      "          -7.5982,   1.3952,  11.3887],\n",
      "        [-11.0471,  -7.5648, -14.6313,  -4.1780,  12.0586,  22.5540,  -0.7569,\n",
      "          -8.9659,  -8.2058,  13.5169],\n",
      "        [  1.1814, -18.9861, -15.7433,   1.2110,   8.3342,  25.1880,   8.9645,\n",
      "         -14.8181, -14.3383,  12.4310],\n",
      "        [  6.2792, -10.0761, -10.9687,   5.7007,  10.6599,  24.5870,   2.5765,\n",
      "         -11.0183,  -4.1850,   2.1654],\n",
      "        [  0.8268, -22.7662, -15.5809,  -1.5078,  16.4348,  16.4044,   8.6472,\n",
      "          -7.0537,  -4.9717,   6.7857],\n",
      "        [ -2.8907,  -9.1175, -22.6722,   8.9949,  11.2077,  22.2063,  -0.3394,\n",
      "          -8.7717, -15.2518,   6.3604],\n",
      "        [  2.6028, -21.3221, -15.9662,  -3.2977,  12.4127,  21.3482,   7.2456,\n",
      "         -13.9595,  -6.0392,  14.0755],\n",
      "        [-18.6192, -15.9767,  -4.7335,   0.7668,  16.0351,  20.7559,   3.4236,\n",
      "          -9.7599, -16.4705,   1.7048],\n",
      "        [ -6.6433, -15.4994, -12.9015,  -1.3060,  17.7655,  20.0260,   1.6528,\n",
      "         -13.1348, -19.8638,   6.4277],\n",
      "        [ -5.2585, -11.4712,  -8.0964,  -3.4626,  12.3595,  28.0796,   3.3522,\n",
      "          -9.1176,  -4.9038,  -1.7523],\n",
      "        [ -5.9053, -12.3126, -20.1177,   4.0889,   9.8119,  19.7275,   4.4186,\n",
      "         -17.1127, -10.6975,   2.7243],\n",
      "        [ -5.9452,  -3.3849,  -8.7608,  -6.0491,  11.8815,  13.9788,   5.7451,\n",
      "          -8.5534, -18.5046,  13.6865],\n",
      "        [ -8.8889, -15.4017,  -7.5134,   3.3548,  16.1576,  12.7588,   2.5402,\n",
      "          -0.8906,  -1.7314,  16.2569],\n",
      "        [ -6.9949, -17.9808,  -7.0458,  -3.1058,  14.0089,  21.4706,   6.3900,\n",
      "          -5.7609,   7.6369,   5.0243],\n",
      "        [ -3.0870, -21.5996, -17.1841,   2.9562,  18.2246,  25.7803,   5.6351,\n",
      "         -14.8507,  -7.0734,  12.1902],\n",
      "        [ -5.1652, -18.9972, -15.6305,   0.5934,  16.8787,  21.5472,  11.6425,\n",
      "         -19.7094,  -7.7889,  15.3762],\n",
      "        [  1.9538, -16.9309, -16.8449,  -1.5995,  16.1043,  21.2511,   5.7857,\n",
      "          -9.7518,  -3.1338,  -3.7906],\n",
      "        [ -0.5176, -11.4763,  -7.0207,  -1.5252,  10.6194,  25.1568,   0.6485,\n",
      "          -9.1965,  -7.2776,   7.3301],\n",
      "        [  3.2122,  -3.9281, -13.4410,   3.9143,   6.9908,  28.8683,   6.7002,\n",
      "          -5.0173,  -0.8278,   5.7340],\n",
      "        [ -2.4389,  -2.0770, -17.4412,   5.0910,  11.5445,  21.5212,   2.2553,\n",
      "          -4.8774,  -0.2704,   5.0385],\n",
      "        [ -3.3446,  -4.1616, -19.8630,   5.3293,  10.0392,  28.1019,   3.0618,\n",
      "         -10.1525,  -7.0465,  12.3834],\n",
      "        [ -0.8867, -13.2919,  -1.9847,  -2.8639,  11.7532,  15.8677,   6.1101,\n",
      "          -5.7401, -15.8969,   0.2541],\n",
      "        [ -2.4765, -13.8369, -18.1229,  -4.1648,  15.1492,  23.6693,  -0.1140,\n",
      "          -3.3707, -11.5178,   9.8343],\n",
      "        [ -3.4321, -21.8238, -14.8819,  -2.7502,  15.4290,  23.5561,   8.2345,\n",
      "         -11.3855,  -4.2961,  10.6198],\n",
      "        [ -2.8703, -19.5914, -13.9508,  -6.1361,  20.1482,  21.1824,  17.0422,\n",
      "          -7.4088,   1.9583,  16.5277],\n",
      "        [ -6.2724,  -7.7050, -12.8439, -11.2870,  13.1351,  26.8134,   4.9494,\n",
      "          -9.9218,   0.4261,  15.3614],\n",
      "        [ -1.2609, -15.6806, -20.0345,   0.6221,  12.0682,  20.0354,   9.7848,\n",
      "         -17.2035,  -4.3334,  13.5182],\n",
      "        [  0.7069, -19.2851, -14.6332,   1.6963,   8.4254,  24.6271,   7.6720,\n",
      "         -18.6273,  -1.3414,   6.9067],\n",
      "        [ -4.2443, -11.5946, -15.7335,  -2.9582,  10.3594,  24.8454,   6.3160,\n",
      "         -13.6476,  -2.2963,  13.7911],\n",
      "        [ -3.8871,  -4.6958,  -6.7555,  -9.6432,  18.8587,  27.0601,  -3.7120,\n",
      "         -21.7597,  -6.5924,   9.0632],\n",
      "        [ -4.6777,  -9.5810, -16.4514,   3.5270,  14.4240,  19.5726,   2.7443,\n",
      "          -7.0918,  -8.7524,  10.2940],\n",
      "        [ -8.1876, -20.6461,  -4.2359,   2.3310,  17.9404,  16.7652,  10.8246,\n",
      "         -13.0387, -15.0382,   9.8052],\n",
      "        [  2.0877, -18.1637, -14.9296,   3.9405,  13.5003,  23.2754,   8.1287,\n",
      "         -16.6669,  -5.2286,  13.4458],\n",
      "        [ -1.0904, -14.2653, -10.7509,  -2.5926,  11.8529,  21.6376,   3.5184,\n",
      "         -11.0694,  -8.4480,  10.6711],\n",
      "        [ -2.2159, -18.4224, -15.9700,   5.5787,  15.2271,  25.4084,   5.2173,\n",
      "         -11.7473,  -6.4363,  11.4609],\n",
      "        [  0.0712,  -7.7180, -13.5760,  -1.6346,  16.2071,  21.1572,   2.8791,\n",
      "          -6.0499,  -9.9940,  11.2195],\n",
      "        [  6.2806,  -8.7859, -11.3618,  -3.1117,   5.9928,  25.6276,   9.3624,\n",
      "         -12.8333,  -7.7567,  16.4889],\n",
      "        [  6.3780, -10.9498,  -8.5420,   7.3767,   6.3133,  34.3719,   6.3891,\n",
      "         -12.9131,  -6.7086,   3.1095],\n",
      "        [  4.2959,  -4.6123, -10.1896,   3.1967,  14.3028,  22.2812,   5.9002,\n",
      "         -12.6530,   2.8472,  12.0779],\n",
      "        [ -1.7522, -18.9543,  -7.0086,  -9.8249,  21.9368,  20.2089,   9.6339,\n",
      "          -3.6758, -12.5154,  20.4716],\n",
      "        [ -2.4873,  -6.5984, -16.4491,   0.4046,  13.1094,  20.9741,   4.1098,\n",
      "          -6.1284,  -7.9009,   8.1956],\n",
      "        [ -2.2205, -19.0736, -14.2674,   2.7442,  14.3384,  23.8046,  12.2048,\n",
      "         -22.3589,  -5.3165,  12.3979],\n",
      "        [ -2.0387, -17.6422,  -4.7162,  -0.0383,  15.4330,  26.9426,   5.7817,\n",
      "          -5.6535, -10.6092,   3.8378]])\n"
     ]
    }
   ],
   "source": [
    "## Your solution\n",
    "activation_function = lambda x: 1.0 / (1.0 + torch.exp(-x))\n",
    "n_input = 784\n",
    "n_hidden = 256\n",
    "n_output = 10\n",
    "w_i_h = torch.randn(n_input, n_hidden)\n",
    "b_h = torch.randn(n_hidden)\n",
    "w_h_o = torch.randn(n_hidden, n_output)\n",
    "b_o = torch.randn(n_output)\n",
    "flattened_images = images.view(images.shape[0], -1)\n",
    "h = activation_function(torch.mm(flattened_images, w_i_h) + b_h)\n",
    "out = torch.mm(h, w_h_o) + b_o\n",
    "print(out.shape)\n",
    "print(out)"
   ]
  },
  {
   "cell_type": "markdown",
   "metadata": {},
   "source": [
    "Now we have 10 outputs for our network. We want to pass in an image to our network and get out a probability distribution over the classes that tells us the likely class(es) the image belongs to. Something that looks like this:\n",
    "<img src='assets/image_distribution.png' width=500px>\n",
    "\n",
    "Here we see that the probability for each class is roughly the same. This is representing an untrained network, it hasn't seen any data yet so it just returns a uniform distribution with equal probabilities for each class.\n",
    "\n",
    "To calculate this probability distribution, we often use the [**softmax** function](https://en.wikipedia.org/wiki/Softmax_function). Mathematically this looks like\n",
    "\n",
    "$$\n",
    "\\Large \\sigma(x_i) = \\cfrac{e^{x_i}}{\\sum_k^K{e^{x_k}}}\n",
    "$$\n",
    "\n",
    "What this does is squish each input $x_i$ between 0 and 1 and normalizes the values to give you a proper probability distribution where the probabilites sum up to one.\n",
    "\n",
    "> **Exercise:** Implement a function `softmax` that performs the softmax calculation and returns probability distributions for each example in the batch. Note that you'll need to pay attention to the shapes when doing this. If you have a tensor `a` with shape `(64, 10)` and a tensor `b` with shape `(64,)`, doing `a/b` will give you an error because PyTorch will try to do the division across the columns (called broadcasting) but you'll get a size mismatch. The way to think about this is for each of the 64 examples, you only want to divide by one value, the sum in the denominator. So you need `b` to have a shape of `(64, 1)`. This way PyTorch will divide the 10 values in each row of `a` by the one value in each row of `b`. Pay attention to how you take the sum as well. You'll need to define the `dim` keyword in `torch.sum`. Setting `dim=0` takes the sum across the rows while `dim=1` takes the sum across the columns."
   ]
  },
  {
   "cell_type": "code",
   "execution_count": 49,
   "metadata": {},
   "outputs": [
    {
     "name": "stdout",
     "output_type": "stream",
     "text": [
      "torch.Size([64, 10])\n",
      "tensor([1.0000, 1.0000, 1.0000, 1.0000, 1.0000, 1.0000, 1.0000, 1.0000, 1.0000,\n",
      "        1.0000, 1.0000, 1.0000, 1.0000, 1.0000, 1.0000, 1.0000, 1.0000, 1.0000,\n",
      "        1.0000, 1.0000, 1.0000, 1.0000, 1.0000, 1.0000, 1.0000, 1.0000, 1.0000,\n",
      "        1.0000, 1.0000, 1.0000, 1.0000, 1.0000, 1.0000, 1.0000, 1.0000, 1.0000,\n",
      "        1.0000, 1.0000, 1.0000, 1.0000, 1.0000, 1.0000, 1.0000, 1.0000, 1.0000,\n",
      "        1.0000, 1.0000, 1.0000, 1.0000, 1.0000, 1.0000, 1.0000, 1.0000, 1.0000,\n",
      "        1.0000, 1.0000, 1.0000, 1.0000, 1.0000, 1.0000, 1.0000, 1.0000, 1.0000,\n",
      "        1.0000])\n"
     ]
    }
   ],
   "source": [
    "def softmax(x):\n",
    "    ## TODO: Implement the softmax function here\n",
    "    return torch.exp(x)/torch.sum(torch.exp(x), dim=1).view(-1, 1)\n",
    "\n",
    "# Here, out should be the output of the network in the previous excercise with shape (64,10)\n",
    "probabilities = softmax(out)\n",
    "\n",
    "# Does it have the right shape? Should be (64, 10)\n",
    "print(probabilities.shape)\n",
    "# Does it sum to 1?\n",
    "print(probabilities.sum(dim=1))"
   ]
  },
  {
   "cell_type": "markdown",
   "metadata": {},
   "source": [
    "## Building networks with PyTorch\n",
    "\n",
    "PyTorch provides a module `nn` that makes building networks much simpler. Here I'll show you how to build the same one as above with 784 inputs, 256 hidden units, 10 output units and a softmax output."
   ]
  },
  {
   "cell_type": "code",
   "execution_count": 60,
   "metadata": {},
   "outputs": [],
   "source": [
    "from torch import nn"
   ]
  },
  {
   "cell_type": "code",
   "execution_count": 61,
   "metadata": {},
   "outputs": [],
   "source": [
    "class Network(nn.Module):\n",
    "    def __init__(self):\n",
    "        super().__init__()\n",
    "        \n",
    "        # Inputs to hidden layer linear transformation\n",
    "        self.hidden = nn.Linear(784, 256)\n",
    "        # Output layer, 10 units - one for each digit\n",
    "        self.output = nn.Linear(256, 10)\n",
    "        \n",
    "        # Define sigmoid activation and softmax output \n",
    "        self.sigmoid = nn.Sigmoid()\n",
    "        self.softmax = nn.Softmax(dim=1)\n",
    "        \n",
    "    def forward(self, x):\n",
    "        # Pass the input tensor through each of our operations\n",
    "        x = self.hidden(x)\n",
    "        x = self.sigmoid(x)\n",
    "        x = self.output(x)\n",
    "        x = self.softmax(x)\n",
    "        \n",
    "        return x"
   ]
  },
  {
   "cell_type": "markdown",
   "metadata": {},
   "source": [
    "Let's go through this bit by bit.\n",
    "\n",
    "```python\n",
    "class Network(nn.Module):\n",
    "```\n",
    "\n",
    "Here we're inheriting from `nn.Module`. Combined with `super().__init__()` this creates a class that tracks the architecture and provides a lot of useful methods and attributes. It is mandatory to inherit from `nn.Module` when you're creating a class for your network. The name of the class itself can be anything.\n",
    "\n",
    "```python\n",
    "self.hidden = nn.Linear(784, 256)\n",
    "```\n",
    "\n",
    "This line creates a module for a linear transformation, $x\\mathbf{W} + b$, with 784 inputs and 256 outputs and assigns it to `self.hidden`. The module automatically creates the weight and bias tensors which we'll use in the `forward` method. You can access the weight and bias tensors once the network (`net`) is created with `net.hidden.weight` and `net.hidden.bias`.\n",
    "\n",
    "```python\n",
    "self.output = nn.Linear(256, 10)\n",
    "```\n",
    "\n",
    "Similarly, this creates another linear transformation with 256 inputs and 10 outputs.\n",
    "\n",
    "```python\n",
    "self.sigmoid = nn.Sigmoid()\n",
    "self.softmax = nn.Softmax(dim=1)\n",
    "```\n",
    "\n",
    "Here I defined operations for the sigmoid activation and softmax output. Setting `dim=1` in `nn.Softmax(dim=1)` calculates softmax across the columns.\n",
    "\n",
    "```python\n",
    "def forward(self, x):\n",
    "```\n",
    "\n",
    "PyTorch networks created with `nn.Module` must have a `forward` method defined. It takes in a tensor `x` and passes it through the operations you defined in the `__init__` method.\n",
    "\n",
    "```python\n",
    "x = self.hidden(x)\n",
    "x = self.sigmoid(x)\n",
    "x = self.output(x)\n",
    "x = self.softmax(x)\n",
    "```\n",
    "\n",
    "Here the input tensor `x` is passed through each operation and reassigned to `x`. We can see that the input tensor goes through the hidden layer, then a sigmoid function, then the output layer, and finally the softmax function. It doesn't matter what you name the variables here, as long as the inputs and outputs of the operations match the network architecture you want to build. The order in which you define things in the `__init__` method doesn't matter, but you'll need to sequence the operations correctly in the `forward` method.\n",
    "\n",
    "Now we can create a `Network` object."
   ]
  },
  {
   "cell_type": "code",
   "execution_count": 62,
   "metadata": {},
   "outputs": [
    {
     "data": {
      "text/plain": [
       "Network(\n",
       "  (hidden): Linear(in_features=784, out_features=256, bias=True)\n",
       "  (output): Linear(in_features=256, out_features=10, bias=True)\n",
       "  (sigmoid): Sigmoid()\n",
       "  (softmax): Softmax(dim=1)\n",
       ")"
      ]
     },
     "execution_count": 62,
     "metadata": {},
     "output_type": "execute_result"
    }
   ],
   "source": [
    "# Create the network and look at it's text representation\n",
    "model = Network()\n",
    "model"
   ]
  },
  {
   "cell_type": "markdown",
   "metadata": {},
   "source": [
    "You can define the network somewhat more concisely and clearly using the `torch.nn.functional` module. This is the most common way you'll see networks defined as many operations are simple element-wise functions. We normally import this module as `F`, `import torch.nn.functional as F`."
   ]
  },
  {
   "cell_type": "code",
   "execution_count": 63,
   "metadata": {},
   "outputs": [],
   "source": [
    "import torch.nn.functional as F\n",
    "\n",
    "class Network(nn.Module):\n",
    "    def __init__(self):\n",
    "        super().__init__()\n",
    "        # Inputs to hidden layer linear transformation\n",
    "        self.hidden = nn.Linear(784, 256)\n",
    "        # Output layer, 10 units - one for each digit\n",
    "        self.output = nn.Linear(256, 10)\n",
    "        \n",
    "    def forward(self, x):\n",
    "        # Hidden layer with sigmoid activation\n",
    "        x = F.sigmoid(self.hidden(x))\n",
    "        # Output layer with softmax activation\n",
    "        x = F.softmax(self.output(x), dim=1)\n",
    "        \n",
    "        return x"
   ]
  },
  {
   "cell_type": "markdown",
   "metadata": {},
   "source": [
    "### Activation functions\n",
    "\n",
    "So far we've only been looking at the sigmoid activation function, but in general any function can be used as an activation function. The only requirement is that for a network to approximate a non-linear function, the activation functions must be non-linear. Here are a few more examples of common activation functions: Tanh (hyperbolic tangent), and ReLU (rectified linear unit).\n",
    "\n",
    "<img src=\"assets/activation.png\" width=700px>\n",
    "\n",
    "In practice, the ReLU function is used almost exclusively as the activation function for hidden layers."
   ]
  },
  {
   "cell_type": "markdown",
   "metadata": {},
   "source": [
    "### Your Turn to Build a Network\n",
    "\n",
    "<img src=\"assets/mlp_mnist.png\" width=600px>\n",
    "\n",
    "> **Exercise:** Create a network with 784 input units, a hidden layer with 128 units and a ReLU activation, then a hidden layer with 64 units and a ReLU activation, and finally an output layer with a softmax activation as shown above. You can use a ReLU activation with the `nn.ReLU` module or `F.relu` function.\n",
    "\n",
    "It's good practice to name your layers by their type of network, for instance 'fc' to represent a fully-connected layer. As you code your solution, use `fc1`, `fc2`, and `fc3` as your layer names."
   ]
  },
  {
   "cell_type": "code",
   "execution_count": 69,
   "metadata": {
    "scrolled": true
   },
   "outputs": [
    {
     "data": {
      "text/plain": [
       "Network(\n",
       "  (fc1): Linear(in_features=784, out_features=128, bias=True)\n",
       "  (fc2): Linear(in_features=128, out_features=64, bias=True)\n",
       "  (fc3): Linear(in_features=64, out_features=10, bias=True)\n",
       ")"
      ]
     },
     "execution_count": 69,
     "metadata": {},
     "output_type": "execute_result"
    }
   ],
   "source": [
    "## Your solution here\n",
    "import torch.nn.functional as F\n",
    "class Network(nn.Module):\n",
    "    def __init__(self):\n",
    "        super().__init__()\n",
    "        self.fc1 = nn.Linear(784, 128)\n",
    "        self.fc2 = nn.Linear(128, 64)\n",
    "        self.fc3 = nn.Linear(64, 10)\n",
    "    \n",
    "    def forward(self, x):\n",
    "        x = F.relu(self.fc1(x))\n",
    "        x = F.relu(self.fc2(x))\n",
    "        x = F.softmax(self.fc3(x), dim = 1)\n",
    "        return x\n",
    "\n",
    "model = Network()\n",
    "model"
   ]
  },
  {
   "cell_type": "markdown",
   "metadata": {},
   "source": [
    "### Initializing weights and biases\n",
    "\n",
    "The weights and such are automatically initialized for you, but it's possible to customize how they are initialized. The weights and biases are tensors attached to the layer you defined, you can get them with `model.fc1.weight` for instance."
   ]
  },
  {
   "cell_type": "code",
   "execution_count": 70,
   "metadata": {},
   "outputs": [
    {
     "name": "stdout",
     "output_type": "stream",
     "text": [
      "Parameter containing:\n",
      "tensor([[-0.0046, -0.0065,  0.0095,  ...,  0.0091, -0.0339,  0.0263],\n",
      "        [-0.0281, -0.0254,  0.0319,  ...,  0.0267,  0.0223, -0.0306],\n",
      "        [ 0.0296, -0.0123,  0.0165,  ...,  0.0174, -0.0182, -0.0246],\n",
      "        ...,\n",
      "        [ 0.0087,  0.0298,  0.0280,  ..., -0.0020, -0.0161, -0.0209],\n",
      "        [-0.0037,  0.0183, -0.0263,  ...,  0.0293,  0.0089, -0.0320],\n",
      "        [-0.0313, -0.0302,  0.0144,  ..., -0.0081,  0.0154,  0.0081]],\n",
      "       requires_grad=True)\n",
      "Parameter containing:\n",
      "tensor([ 2.4028e-02, -4.2482e-03, -1.2490e-02,  1.2325e-02, -2.6587e-02,\n",
      "        -2.7092e-02,  1.9297e-02, -1.2294e-02, -1.6379e-02, -4.4696e-03,\n",
      "         1.3397e-03,  3.4095e-02,  1.3737e-02, -4.1487e-03,  1.9360e-02,\n",
      "         2.5806e-02, -3.6419e-03,  2.1312e-02,  9.5615e-03, -1.6478e-02,\n",
      "        -9.6496e-05, -3.1568e-02, -2.8093e-02,  1.8917e-03,  2.5252e-02,\n",
      "         6.7003e-03, -2.6714e-02, -2.2437e-03, -7.0886e-04, -2.0193e-02,\n",
      "         3.4517e-02, -2.8787e-02, -3.7549e-03, -3.5447e-02,  1.5099e-02,\n",
      "        -4.5893e-03,  1.8522e-02,  2.1537e-02,  8.0979e-04, -2.4357e-02,\n",
      "         2.8612e-02,  3.5486e-02,  3.1886e-02,  3.3983e-02,  1.5212e-02,\n",
      "         1.1806e-02, -1.8058e-02,  1.7946e-02,  2.6480e-02,  2.2200e-02,\n",
      "         1.8323e-02,  1.4317e-02, -3.6868e-04,  1.6889e-02,  1.5008e-02,\n",
      "        -3.0009e-02, -1.4217e-02,  8.8742e-03,  3.3122e-03,  3.8138e-03,\n",
      "        -3.1206e-02,  2.8327e-02,  3.5065e-02,  2.9886e-02, -2.7707e-02,\n",
      "         1.8849e-02,  1.4441e-02,  2.8245e-02,  2.1929e-02, -2.3537e-02,\n",
      "        -1.5563e-04,  1.3088e-02,  1.4298e-02,  2.4899e-02,  9.8197e-03,\n",
      "         2.3050e-02, -7.6776e-03,  1.4502e-03, -7.8008e-03, -1.3745e-02,\n",
      "         6.3836e-03, -1.2893e-03, -2.2170e-02,  1.1212e-02, -4.0237e-03,\n",
      "         1.4729e-02, -2.6685e-02, -1.8383e-02, -3.5564e-02, -3.7275e-03,\n",
      "         3.2517e-02,  2.5926e-02, -2.5752e-02, -2.4149e-02,  2.9926e-02,\n",
      "        -1.8933e-02, -2.9785e-02, -2.9589e-02, -2.0363e-02, -5.1173e-03,\n",
      "        -1.6437e-03, -3.1601e-02, -1.4439e-02, -5.5800e-03, -8.3774e-03,\n",
      "         3.1123e-04,  3.0896e-02,  2.1699e-02,  8.6297e-03, -2.3843e-02,\n",
      "        -1.4684e-02, -1.7347e-02,  4.0047e-03, -2.4063e-02,  2.9969e-02,\n",
      "         8.1832e-04, -1.3714e-02, -3.1482e-02, -1.3142e-02,  1.1888e-02,\n",
      "         5.0275e-03, -1.0146e-02,  3.4754e-02, -3.2066e-02, -2.1643e-02,\n",
      "         3.0943e-02, -9.0929e-03,  2.7316e-02], requires_grad=True)\n"
     ]
    }
   ],
   "source": [
    "print(model.fc1.weight)\n",
    "print(model.fc1.bias)"
   ]
  },
  {
   "cell_type": "markdown",
   "metadata": {},
   "source": [
    "For custom initialization, we want to modify these tensors in place. These are actually autograd *Variables*, so we need to get back the actual tensors with `model.fc1.weight.data`. Once we have the tensors, we can fill them with zeros (for biases) or random normal values."
   ]
  },
  {
   "cell_type": "code",
   "execution_count": 71,
   "metadata": {},
   "outputs": [
    {
     "data": {
      "text/plain": [
       "tensor([0., 0., 0., 0., 0., 0., 0., 0., 0., 0., 0., 0., 0., 0., 0., 0., 0., 0., 0., 0., 0., 0., 0., 0.,\n",
       "        0., 0., 0., 0., 0., 0., 0., 0., 0., 0., 0., 0., 0., 0., 0., 0., 0., 0., 0., 0., 0., 0., 0., 0.,\n",
       "        0., 0., 0., 0., 0., 0., 0., 0., 0., 0., 0., 0., 0., 0., 0., 0., 0., 0., 0., 0., 0., 0., 0., 0.,\n",
       "        0., 0., 0., 0., 0., 0., 0., 0., 0., 0., 0., 0., 0., 0., 0., 0., 0., 0., 0., 0., 0., 0., 0., 0.,\n",
       "        0., 0., 0., 0., 0., 0., 0., 0., 0., 0., 0., 0., 0., 0., 0., 0., 0., 0., 0., 0., 0., 0., 0., 0.,\n",
       "        0., 0., 0., 0., 0., 0., 0., 0.])"
      ]
     },
     "execution_count": 71,
     "metadata": {},
     "output_type": "execute_result"
    }
   ],
   "source": [
    "# Set biases to all zeros\n",
    "model.fc1.bias.data.fill_(0)"
   ]
  },
  {
   "cell_type": "code",
   "execution_count": 72,
   "metadata": {},
   "outputs": [
    {
     "data": {
      "text/plain": [
       "tensor([[ 0.0052, -0.0084, -0.0095,  ..., -0.0015, -0.0044,  0.0040],\n",
       "        [ 0.0095, -0.0114,  0.0108,  ..., -0.0029,  0.0052,  0.0109],\n",
       "        [-0.0143,  0.0096,  0.0037,  ...,  0.0035, -0.0036, -0.0087],\n",
       "        ...,\n",
       "        [-0.0049,  0.0027,  0.0015,  ..., -0.0065,  0.0112, -0.0031],\n",
       "        [ 0.0111, -0.0017, -0.0015,  ..., -0.0159, -0.0169,  0.0057],\n",
       "        [-0.0020, -0.0011,  0.0044,  ..., -0.0022, -0.0189,  0.0033]])"
      ]
     },
     "execution_count": 72,
     "metadata": {},
     "output_type": "execute_result"
    }
   ],
   "source": [
    "# sample from random normal with standard dev = 0.01\n",
    "model.fc1.weight.data.normal_(std=0.01)"
   ]
  },
  {
   "cell_type": "markdown",
   "metadata": {},
   "source": [
    "### Forward pass\n",
    "\n",
    "Now that we have a network, let's see what happens when we pass in an image."
   ]
  },
  {
   "cell_type": "code",
   "execution_count": 73,
   "metadata": {},
   "outputs": [
    {
     "data": {
      "image/png": "[encoded data removed]",
      "text/plain": [
       "<Figure size 432x648 with 2 Axes>"
      ]
     },
     "metadata": {
      "image/png": {
       "height": 235,
       "width": 424
      },
      "needs_background": "light"
     },
     "output_type": "display_data"
    }
   ],
   "source": [
    "# Grab some data \n",
    "dataiter = iter(trainloader)\n",
    "images, labels = dataiter.next()\n",
    "\n",
    "# Resize images into a 1D vector, new shape is (batch size, color channels, image pixels) \n",
    "images.resize_(64, 1, 784)\n",
    "# or images.resize_(images.shape[0], 1, 784) to automatically get batch size\n",
    "\n",
    "# Forward pass through the network\n",
    "img_idx = 0\n",
    "ps = model.forward(images[img_idx,:])\n",
    "\n",
    "img = images[img_idx]\n",
    "helper.view_classify(img.view(1, 28, 28), ps)"
   ]
  },
  {
   "cell_type": "markdown",
   "metadata": {},
   "source": [
    "As you can see above, our network has basically no idea what this digit is. It's because we haven't trained it yet, all the weights are random!\n",
    "\n",
    "### Using `nn.Sequential`\n",
    "\n",
    "PyTorch provides a convenient way to build networks like this where a tensor is passed sequentially through operations, `nn.Sequential` ([documentation](https://pytorch.org/docs/master/nn.html#torch.nn.Sequential)). Using this to build the equivalent network:"
   ]
  },
  {
   "cell_type": "code",
   "execution_count": 74,
   "metadata": {},
   "outputs": [
    {
     "name": "stdout",
     "output_type": "stream",
     "text": [
      "Sequential(\n",
      "  (0): Linear(in_features=784, out_features=128, bias=True)\n",
      "  (1): ReLU()\n",
      "  (2): Linear(in_features=128, out_features=64, bias=True)\n",
      "  (3): ReLU()\n",
      "  (4): Linear(in_features=64, out_features=10, bias=True)\n",
      "  (5): Softmax(dim=1)\n",
      ")\n"
     ]
    },
    {
     "data": {
      "image/png": "[encoded data removed]",
      "text/plain": [
       "<Figure size 432x648 with 2 Axes>"
      ]
     },
     "metadata": {
      "image/png": {
       "height": 235,
       "width": 424
      },
      "needs_background": "light"
     },
     "output_type": "display_data"
    }
   ],
   "source": [
    "# Hyperparameters for our network\n",
    "input_size = 784\n",
    "hidden_sizes = [128, 64]\n",
    "output_size = 10\n",
    "\n",
    "# Build a feed-forward network\n",
    "model = nn.Sequential(nn.Linear(input_size, hidden_sizes[0]),\n",
    "                      nn.ReLU(),\n",
    "                      nn.Linear(hidden_sizes[0], hidden_sizes[1]),\n",
    "                      nn.ReLU(),\n",
    "                      nn.Linear(hidden_sizes[1], output_size),\n",
    "                      nn.Softmax(dim=1))\n",
    "print(model)\n",
    "\n",
    "# Forward pass through the network and display output\n",
    "images, labels = next(iter(trainloader))\n",
    "images.resize_(images.shape[0], 1, 784)\n",
    "ps = model.forward(images[0,:])\n",
    "helper.view_classify(images[0].view(1, 28, 28), ps)"
   ]
  },
  {
   "cell_type": "markdown",
   "metadata": {},
   "source": [
    "Here our model is the same as before: 784 input units, a hidden layer with 128 units, ReLU activation, 64 unit hidden layer, another ReLU, then the output layer with 10 units, and the softmax output.\n",
    "\n",
    "The operations are available by passing in the appropriate index. For example, if you want to get first Linear operation and look at the weights, you'd use `model[0]`."
   ]
  },
  {
   "cell_type": "code",
   "execution_count": 75,
   "metadata": {},
   "outputs": [
    {
     "name": "stdout",
     "output_type": "stream",
     "text": [
      "Linear(in_features=784, out_features=128, bias=True)\n"
     ]
    },
    {
     "data": {
      "text/plain": [
       "Parameter containing:\n",
       "tensor([[ 0.0331,  0.0115,  0.0213,  ...,  0.0159, -0.0072,  0.0237],\n",
       "        [-0.0334,  0.0295, -0.0157,  ...,  0.0125,  0.0194, -0.0255],\n",
       "        [ 0.0211,  0.0109,  0.0104,  ...,  0.0040, -0.0330,  0.0234],\n",
       "        ...,\n",
       "        [-0.0259, -0.0114, -0.0191,  ..., -0.0194, -0.0038, -0.0109],\n",
       "        [-0.0040, -0.0219,  0.0020,  ..., -0.0293, -0.0184,  0.0036],\n",
       "        [-0.0045, -0.0072,  0.0128,  ...,  0.0115, -0.0238,  0.0168]],\n",
       "       requires_grad=True)"
      ]
     },
     "execution_count": 75,
     "metadata": {},
     "output_type": "execute_result"
    }
   ],
   "source": [
    "print(model[0])\n",
    "model[0].weight"
   ]
  },
  {
   "cell_type": "markdown",
   "metadata": {},
   "source": [
    "You can also pass in an `OrderedDict` to name the individual layers and operations, instead of using incremental integers. Note that dictionary keys must be unique, so _each operation must have a different name_."
   ]
  },
  {
   "cell_type": "code",
   "execution_count": 76,
   "metadata": {},
   "outputs": [
    {
     "data": {
      "text/plain": [
       "Sequential(\n",
       "  (fc1): Linear(in_features=784, out_features=128, bias=True)\n",
       "  (relu1): ReLU()\n",
       "  (fc2): Linear(in_features=128, out_features=64, bias=True)\n",
       "  (relu2): ReLU()\n",
       "  (output): Linear(in_features=64, out_features=10, bias=True)\n",
       "  (softmax): Softmax(dim=1)\n",
       ")"
      ]
     },
     "execution_count": 76,
     "metadata": {},
     "output_type": "execute_result"
    }
   ],
   "source": [
    "from collections import OrderedDict\n",
    "model = nn.Sequential(OrderedDict([\n",
    "                      ('fc1', nn.Linear(input_size, hidden_sizes[0])),\n",
    "                      ('relu1', nn.ReLU()),\n",
    "                      ('fc2', nn.Linear(hidden_sizes[0], hidden_sizes[1])),\n",
    "                      ('relu2', nn.ReLU()),\n",
    "                      ('output', nn.Linear(hidden_sizes[1], output_size)),\n",
    "                      ('softmax', nn.Softmax(dim=1))]))\n",
    "model"
   ]
  },
  {
   "cell_type": "markdown",
   "metadata": {},
   "source": [
    "Now you can access layers either by integer or the name"
   ]
  },
  {
   "cell_type": "code",
   "execution_count": 77,
   "metadata": {},
   "outputs": [
    {
     "name": "stdout",
     "output_type": "stream",
     "text": [
      "Linear(in_features=784, out_features=128, bias=True)\n",
      "Linear(in_features=784, out_features=128, bias=True)\n"
     ]
    }
   ],
   "source": [
    "print(model[0])\n",
    "print(model.fc1)"
   ]
  },
  {
   "cell_type": "markdown",
   "metadata": {},
   "source": [
    "In the next notebook, we'll see how we can train a neural network to accuractly predict the numbers appearing in the MNIST images."
   ]
  }
 ],
 "metadata": {
  "kernelspec": {
   "display_name": "Python 3",
   "language": "python",
   "name": "python3"
  },
  "language_info": {
   "codemirror_mode": {
    "name": "ipython",
    "version": 3
   },
   "file_extension": ".py",
   "mimetype": "text/x-python",
   "name": "python",
   "nbconvert_exporter": "python",
   "pygments_lexer": "ipython3",
   "version": "3.8.5"
  }
 },
 "nbformat": 4,
 "nbformat_minor": 2
}
